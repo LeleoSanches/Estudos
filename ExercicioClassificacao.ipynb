{
 "cells": [
  {
   "cell_type": "code",
   "execution_count": 73,
   "metadata": {},
   "outputs": [],
   "source": [
    "import pandas as pd\n",
    "import requests\n",
    "import io\n",
    "import matplotlib.pyplot as plt\n",
    "import numpy as np\n",
    "import warnings\n",
    "warnings.filterwarnings('ignore')\n",
    "\n",
    "\n",
    "url = 'https://raw.githubusercontent.com/advinstai/Aprendizagem-estatistica-classificacao/master/SAheart.data'\n",
    "s=requests.get(url).content\n",
    "data_raw=pd.read_csv(io.StringIO(s.decode('utf-8')))\n",
    "data = data_raw.copy(deep=True)\n",
    "data['HistFam'] = data.famhist.map(lambda x: 1 if x=='Present' else 0) #--- FamHist 1 == Present, Absent==0"
   ]
  },
  {
   "cell_type": "markdown",
   "metadata": {},
   "source": [
    "# Data features \n",
    "**sbp** :  pressao sanguinea \n",
    "\n",
    "**tobacco**:  Tabaco Cumulativo em KG\n",
    "\n",
    "**ldl**:  Baixa densidade de colesterol lipoproteico\n",
    "\n",
    "**adiposity** :\n",
    "\n",
    "**famhist**: Historico familiar de Doenca no coracao \n",
    "\n",
    "**typea**:  Comportamento type-A\n",
    "\n",
    "**obesity**: \n",
    "\n",
    "**alcohol**: Atual consumo de alco\n",
    "\n",
    "**age**: idade\n",
    "\n",
    "**chd**:  response, coronary heart disease\n"
   ]
  },
  {
   "cell_type": "markdown",
   "metadata": {},
   "source": [
    "# Gaussian Naive Bayes\n",
    "## Todas as colunas relevantes"
   ]
  },
  {
   "cell_type": "code",
   "execution_count": 85,
   "metadata": {},
   "outputs": [
    {
     "name": "stdout",
     "output_type": "stream",
     "text": [
      "Score:  0.70995670995671\n"
     ]
    }
   ],
   "source": [
    "from sklearn.naive_bayes import GaussianNB\n",
    "from sklearn.model_selection import train_test_split\n",
    "data_1 = data.drop(columns=['famhist','chd', 'HistFam'])\n",
    "train_x, test_x, train_y, test_y = train_test_split(data_1[:], data.chd[:, np.newaxis])\n",
    "gnb = GaussianNB()\n",
    "gnb.fit(train_x, train_y)\n",
    "print('Score: ', gnb.score(data_1,data.chd[:, np.newaxis]))\n",
    "\n"
   ]
  },
  {
   "cell_type": "markdown",
   "metadata": {},
   "source": [
    "# Gaussian Naive Bayes\n",
    "## Coluna por Colunas"
   ]
  },
  {
   "cell_type": "code",
   "execution_count": 94,
   "metadata": {},
   "outputs": [
    {
     "name": "stdout",
     "output_type": "stream",
     "text": [
      "SBP por CHD\n",
      "==================================================\n",
      "Score:  0.3463203463203463\n",
      "TOBACCO por CHD\n",
      "==================================================\n",
      "Score:  0.3463203463203463\n",
      "LDL por CHD\n",
      "==================================================\n",
      "Score:  0.3463203463203463\n",
      "ADIPOSITY por CHD\n",
      "==================================================\n",
      "Score:  0.6536796536796536\n",
      "Erro 1 famhist\n",
      "TYPEA por CHD\n",
      "==================================================\n",
      "Score:  0.3463203463203463\n",
      "OBESITY por CHD\n",
      "==================================================\n",
      "Score:  0.6536796536796536\n",
      "ALCOHOL por CHD\n",
      "==================================================\n",
      "Score:  0.6536796536796536\n",
      "AGE por CHD\n",
      "==================================================\n",
      "Score:  0.6536796536796536\n",
      "Erro 1 chd\n",
      "Erro 1 HistFam\n"
     ]
    }
   ],
   "source": [
    "data_1 = data.drop(columns=['famhist','chd', 'HistFam'])\n",
    "\n",
    "for column in data.columns:\n",
    "        try:\n",
    "            label = data_1[column]\n",
    "            label = label[:,np.newaxis]\n",
    "            try:\n",
    "                train_x, test_x, train_y, test_y = train_test_split(label,data.chd)\n",
    "                gnb.fit(train_x, train_y)\n",
    "                target_train = (train_y==1)\n",
    "                target_test = (test_y==1)\n",
    "                y_train_pred = gnb.predict(train_x)\n",
    "                y_test_pred = gnb.predict(test_x)\n",
    "                print( column.upper() ,'por CHD')\n",
    "                print('='*50)\n",
    "                print('Score: ', gnb.score(data_1,data.chd[:, np.newaxis]))\n",
    "\n",
    "                \n",
    "                \n",
    "            except:\n",
    "                print('Erro 2')\n",
    "        except:\n",
    "            print('Erro 1', column)\n",
    "\n",
    "\n"
   ]
  },
  {
   "cell_type": "markdown",
   "metadata": {},
   "source": [
    "# Gaussian Naive Bayes\n",
    "## MinMaxScaler em Alcol"
   ]
  },
  {
   "cell_type": "code",
   "execution_count": 121,
   "metadata": {},
   "outputs": [
    {
     "data": {
      "text/plain": [
       "0.6428571428571429"
      ]
     },
     "execution_count": 121,
     "metadata": {},
     "output_type": "execute_result"
    }
   ],
   "source": [
    "from sklearn.preprocessing import MinMaxScaler\n",
    "\n",
    "MMS = MinMaxScaler()\n",
    "MMS.fit(data.alcohol[:,np.newaxis])\n",
    "alco = MMS.transform(data.alcohol[:,np.newaxis])\n",
    "gnb.fit(alco,data.chd)\n",
    "gnb.score(alco,data.chd)"
   ]
  },
  {
   "cell_type": "markdown",
   "metadata": {},
   "source": [
    "# Gaussian Naive Bayes\n",
    "## MinMaxScaler em Dataset"
   ]
  },
  {
   "cell_type": "code",
   "execution_count": 127,
   "metadata": {},
   "outputs": [
    {
     "data": {
      "text/plain": [
       "0.7077922077922078"
      ]
     },
     "execution_count": 127,
     "metadata": {},
     "output_type": "execute_result"
    }
   ],
   "source": [
    "data_trans = MMS.transform(data_1)\n",
    "gnb.fit(data_trans,data.chd)\n",
    "gnb.score(data_trans,data.chd)"
   ]
  },
  {
   "cell_type": "markdown",
   "metadata": {},
   "source": [
    "# Multinomial Naive Bayes"
   ]
  },
  {
   "cell_type": "code",
   "execution_count": 148,
   "metadata": {},
   "outputs": [
    {
     "name": "stdout",
     "output_type": "stream",
     "text": [
      "[[41 30]\n",
      " [16 29]]\n",
      "Score MultinomialNB:  0.603448275862069\n"
     ]
    }
   ],
   "source": [
    "from sklearn.naive_bayes import MultinomialNB\n",
    "from sklearn.metrics import confusion_matrix\n",
    "\n",
    "\n",
    "train_x, test_x, train_y, test_y = train_test_split(data_1, data.chd)\n",
    "mnb = MultinomialNB(class_prior=[.25,.75])\n",
    "mnb.fit(train_x,train_y)\n",
    "y_pred = mnb.predict(test_x)\n",
    "print(confusion_matrix(y_true=test_y,y_pred=y_pred))\n",
    "print('Score MultinomialNB: ',mnb.score(test_x,test_y))"
   ]
  },
  {
   "cell_type": "code",
   "execution_count": 486,
   "metadata": {},
   "outputs": [
    {
     "name": "stdout",
     "output_type": "stream",
     "text": [
      "Bernulli Score: 0.6120689655172413\n",
      "Multinomial Score: 0.7155172413793104\n",
      "[[57 14]\n",
      " [19 26]]\n"
     ]
    }
   ],
   "source": [
    "from sklearn.naive_bayes import BernoulliNB\n",
    "\n",
    "train_x, test_x, train_y, test_y = train_test_split(data_1, data.chd)\n",
    "bnb = BernoulliNB(binarize=0.5)\n",
    "mnb = MultinomialNB()\n",
    "#------------------\n",
    "bnb.fit(train_x,train_y)\n",
    "mnb.fit(train_x,train_y)\n",
    "#---------------------\n",
    "print('Bernulli Score:', bnb.score(test_x,test_y))\n",
    "print('Multinomial Score:', mnb.score(test_x,test_y))\n",
    "\n",
    "y_pred = mnb.predict(test_x)\n",
    "print(confusion_matrix(y_true=test_y,y_pred=y_pred))"
   ]
  },
  {
   "cell_type": "raw",
   "metadata": {},
   "source": [
    "mnb = MultinomialNB(class_prior=[.3,.7])\n",
    "#test = data.sample(100)\n",
    "#test = test[['alcohol', 'chd']]\n",
    "\n",
    "scalar = MinMaxScaler()\n",
    "\n",
    "#train_x, test_x, train_y, test_y = train_test_split(test.alcohol, test.chd)\n",
    "#* Pegar dados Truncados cada vez e Faz o fitting do modelo e gradualmente improva a si\n",
    "\n",
    "#for idx, data_sample in enumerate(data):\n",
    "for idx, test in enumerate(data):\n",
    "    print('Robo: ',idx)\n",
    "    test = data.sample(400)\n",
    "    test = test[['alcohol', 'tobacco','chd']]\n",
    "    scalar = MinMaxScaler()\n",
    "    alco =  scalar.fit_transform(test.alcohol[:,np.newaxis])\n",
    "    tobaco = scalar.fit_transform(test.tobacco[:,np.newaxis])\n",
    "    #test = test.loc[test.chd==1]\n",
    "    #test_alco = scalar.fit_transform(test.alcohol[:,np.newaxis])\n",
    "    #train_x, test_x, train_y, test_y = train_test_split(data.alcohol[:,np.newaxis], data.chd)\n",
    "    train_x, test_x, train_y, test_y = train_test_split(alco, test.chd, test_size=.3)\n",
    "    mnb.partial_fit(train_x,train_y, classes=[0,1])\n",
    "    y_pred = mnb.predict(test_x)\n",
    "    print(confusion_matrix(y_true=test_y,y_pred=y_pred))\n",
    "    print(mnb.score(test_x, test_y))"
   ]
  },
  {
   "cell_type": "markdown",
   "metadata": {},
   "source": [
    "# KNN\n",
    "# Nearest Centroid"
   ]
  },
  {
   "cell_type": "code",
   "execution_count": 490,
   "metadata": {},
   "outputs": [
    {
     "name": "stdout",
     "output_type": "stream",
     "text": [
      "0.6551724137931034\n"
     ]
    },
    {
     "data": {
      "text/plain": [
       "array([[135.13574661,   2.68972851,   4.27656109,  24.04918552,\n",
       "         52.06334842,  25.7679638 ,  16.67918552,  38.8280543 ],\n",
       "       [145.52      ,   5.61208   ,   5.41008   ,  28.32472   ,\n",
       "         54.512     ,  26.67472   ,  19.26976   ,  50.232     ]])"
      ]
     },
     "execution_count": 490,
     "metadata": {},
     "output_type": "execute_result"
    }
   ],
   "source": [
    "from sklearn.neighbors.nearest_centroid import NearestCentroid\n",
    "train_x, test_x, train_y, test_y = train_test_split(data_1, data.chd)\n",
    "nc = NearestCentroid()\n",
    "nc.fit(train_x, train_y[:, np.newaxis])\n",
    "print(nc.score(test_x, test_y[:, np.newaxis]))\n",
    "#nc.predict(test_x)\n",
    "#nc.centroids_"
   ]
  },
  {
   "cell_type": "code",
   "execution_count": 491,
   "metadata": {},
   "outputs": [
    {
     "name": "stdout",
     "output_type": "stream",
     "text": [
      "0.6379310344827587\n",
      "Importancia das colunas:  [0.13297869 0.07464574 0.12901241 0.13902148 0.09212874 0.09648827\n",
      " 0.08993786 0.24578681]\n"
     ]
    },
    {
     "data": {
      "image/png": "[encoded data removed]",
      "text/plain": [
       "<Figure size 432x288 with 1 Axes>"
      ]
     },
     "metadata": {
      "needs_background": "light"
     },
     "output_type": "display_data"
    }
   ],
   "source": [
    "from sklearn import tree\n",
    "train_x, test_x, train_y, test_y = train_test_split(data_1, data.chd)\n",
    "clf = tree.DecisionTreeClassifier()\n",
    "clf = clf.fit(train_x,train_y[:,np.newaxis])\n",
    "\n",
    "print(clf.score(test_x,test_y[:,np.newaxis]))\n",
    "print('Importancia das colunas: ', clf.feature_importances_)\n",
    "#print(data_1.columns)\n",
    "tree.plot_tree(clf.fit(train_x,train_y[:,np.newaxis]))\n",
    "plt.show()"
   ]
  },
  {
   "cell_type": "markdown",
   "metadata": {},
   "source": [
    "# Logistic Regression"
   ]
  },
  {
   "cell_type": "code",
   "execution_count": 498,
   "metadata": {},
   "outputs": [
    {
     "name": "stdout",
     "output_type": "stream",
     "text": [
      "score LogisticRegression\n",
      ":  [[84 29]\n",
      " [ 8 18]]\n"
     ]
    }
   ],
   "source": [
    "from sklearn.linear_model import LogisticRegression\n",
    "train_x, test_x, train_y, test_y = train_test_split(data_1, data.chd, test_size=.3)\n",
    "lr = LogisticRegression()\n",
    "lr.fit(train_x, train_y[:,np.newaxis])\n",
    "print('score LogisticRegression\\n: ',confusion_matrix(lr.predict(test_x),test_y))"
   ]
  },
  {
   "cell_type": "markdown",
   "metadata": {},
   "source": [
    "# SGDClassifier"
   ]
  },
  {
   "cell_type": "code",
   "execution_count": 547,
   "metadata": {},
   "outputs": [
    {
     "name": "stdout",
     "output_type": "stream",
     "text": [
      "score SGD:  0.6187050359712231\n"
     ]
    }
   ],
   "source": [
    "from sklearn.linear_model import SGDClassifier\n",
    "sgd = SGDClassifier()\n",
    "sgd.partial_fit(train_x[:,np.newaxis], train_y, classes=[0,1])\n",
    "print('score SGD: ', sgd.score(test_x[:,np.newaxis],test_y))"
   ]
  },
  {
   "cell_type": "markdown",
   "metadata": {},
   "source": [
    "# LR com PolynomialFeatures"
   ]
  },
  {
   "cell_type": "code",
   "execution_count": 555,
   "metadata": {},
   "outputs": [
    {
     "data": {
      "text/plain": [
       "0.6690647482014388"
      ]
     },
     "execution_count": 555,
     "metadata": {},
     "output_type": "execute_result"
    }
   ],
   "source": [
    "from sklearn.preprocessing import PolynomialFeatures\n",
    "pol = PolynomialFeatures(degree=2)\n",
    "\n",
    "x_tf = pol.fit_transform(data_1)\n",
    "train_x, test_x, train_y, test_y = train_test_split(x_tf, data.chd, test_size=.3)\n",
    "lr.fit(train_x, train_y)\n",
    "lr.score(test_x,test_y)\n"
   ]
  },
  {
   "cell_type": "markdown",
   "metadata": {},
   "source": [
    "# KNN"
   ]
  },
  {
   "cell_type": "code",
   "execution_count": 567,
   "metadata": {},
   "outputs": [
    {
     "name": "stdout",
     "output_type": "stream",
     "text": [
      "0.6618705035971223\n"
     ]
    }
   ],
   "source": [
    "from sklearn.neighbors import KNeighborsClassifier, RadiusNeighborsClassifier\n",
    "knc = KNeighborsClassifier(n_neighbors=5)\n",
    "rnc = RadiusNeighborsClassifier(radius=5)\n",
    "\n",
    "train_x, test_x, train_y, test_y = train_test_split(data_1, data.chd, test_size=.3)\n",
    "knc.fit(train_x, train_y[:,np.newaxis])\n",
    "rnc.fit(train_x, train_y[:,np.newaxis])\n",
    "print(knc.score(test_x,test_y))\n",
    "#print(rnc.score(test_x,test_y))"
   ]
  },
  {
   "cell_type": "code",
   "execution_count": 598,
   "metadata": {},
   "outputs": [
    {
     "data": {
      "image/png": "[encoded data removed]",
      "text/plain": [
       "<Figure size 432x288 with 1 Axes>"
      ]
     },
     "metadata": {
      "needs_background": "light"
     },
     "output_type": "display_data"
    }
   ],
   "source": [
    "from mpl_toolkits.mplot3d import Axes3D\n",
    "train_x, test_x, train_y, test_y = train_test_split(data_1.alcohol, data.chd, test_size=.3)\n",
    "\n",
    "#col = np.sum(np.square(train_x[:,np.newaxis], train_y[:,np.newaxis]))\n",
    "Z = np.hstack([train_x[:,np.newaxis]])\n",
    "f = plt.figure()\n",
    "ax = f.add_subplot(111,projection='3d')\n",
    "ax.scatter3D(xs=data_1.obesity, ys=data_1.alcohol, zs=data_1.age, c=data.chd)\n",
    "plt.show()"
   ]
  },
  {
   "cell_type": "code",
   "execution_count": null,
   "metadata": {},
   "outputs": [],
   "source": [
    "from sklearn.svm import SVC\n",
    "svc = SVC(kernel='linear')\n",
    "\n",
    "train_x, test_x, train_y, test_y = train_test_split(data_1.alcohol, data.chd, test_size=.3)\n",
    "\n",
    "svc.fit(train_x[:,np.newaxis],train_y)\n",
    "print('Score: ',svc.score(test_x[:,np.newaxis],test_y))\n"
   ]
  },
  {
   "cell_type": "code",
   "execution_count": null,
   "metadata": {},
   "outputs": [],
   "source": [
    "svc = SVC(kernel='poly')\n",
    "\n",
    "train_x, test_x, train_y, test_y = train_test_split(data_1.alcohol, data.chd, test_size=.3)\n",
    "\n",
    "svc.fit(train_x[:,np.newaxis],train_y)\n",
    "print('Score: ',svc.score(test_x[:,np.newaxis],test_y))\n"
   ]
  },
  {
   "cell_type": "code",
   "execution_count": null,
   "metadata": {},
   "outputs": [],
   "source": []
  }
 ],
 "metadata": {
  "kernelspec": {
   "display_name": "Python 3",
   "language": "python",
   "name": "python3"
  },
  "language_info": {
   "codemirror_mode": {
    "name": "ipython",
    "version": 2
   },
   "file_extension": ".py",
   "mimetype": "text/x-python",
   "name": "python",
   "nbconvert_exporter": "python",
   "pygments_lexer": "ipython2",
   "version": "2.7.17"
  }
 },
 "nbformat": 4,
 "nbformat_minor": 2
}

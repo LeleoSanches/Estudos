{
 "cells": [
  {
   "cell_type": "markdown",
   "metadata": {},
   "source": [
    "# PyTorch\n",
    "Leonardo Sanches\n",
    "\n",
    "\n",
    "https://www.kaggle.com/kanncaa1/pytorch-tutorial-for-deep-learning-lovers/notebook"
   ]
  },
  {
   "cell_type": "markdown",
   "metadata": {},
   "source": [
    "## Instalacao\n",
    "\n",
    "* Em um Ubuntu 18.04, Faca as seguintes instalacoes\n",
    "\n",
    "### CUDA 10.2\n",
    "> wget https://developer.download.nvidia.com/compute/cuda/repos/ubuntu1804/x86_64/cuda-ubuntu1804.pin\n",
    "\n",
    "> sudo mv cuda-ubuntu1804.pin /etc/apt/preferences.d/cuda-repository-pin-600\n",
    "\n",
    "> wget http://developer.download.nvidia.com/compute/cuda/10.2/Prod/local_installers/cuda-repo-ubuntu1804-10-2-local-10.2.89-440.33.01_1.0-1_amd64.deb\n",
    "\n",
    "> sudo dpkg -i cuda-repo-ubuntu1804-10-2-local-10.2.89-440.33.01_1.0-1_amd64.deb\n",
    "\n",
    "> sudo apt-key add /var/cuda-repo-10-2-local-10.2.89-440.33.01/7fa2af80.pub\n",
    "\n",
    "> sudo apt-get update\n",
    "\n",
    "> sudo apt-get -y install cuda\n",
    "\n",
    "\n",
    "### PyTorch \n",
    "\n",
    "> conda install pytorch torchvision cudatoolkit=10.2 -c pytorch\n"
   ]
  },
  {
   "cell_type": "code",
   "execution_count": 2,
   "metadata": {},
   "outputs": [
    {
     "ename": "ImportError",
     "evalue": "No module named torch",
     "output_type": "error",
     "traceback": [
      "\u001b[0;31m---------------------------------------------------------------------------\u001b[0m",
      "\u001b[0;31mImportError\u001b[0m                               Traceback (most recent call last)",
      "\u001b[0;32m<ipython-input-2-1272653d49dd>\u001b[0m in \u001b[0;36m<module>\u001b[0;34m()\u001b[0m\n\u001b[1;32m      1\u001b[0m \u001b[0;32mimport\u001b[0m \u001b[0mnumpy\u001b[0m \u001b[0;32mas\u001b[0m \u001b[0mnp\u001b[0m\u001b[0;34m\u001b[0m\u001b[0m\n\u001b[0;32m----> 2\u001b[0;31m \u001b[0;32mimport\u001b[0m \u001b[0mtorch\u001b[0m\u001b[0;34m\u001b[0m\u001b[0m\n\u001b[0m\u001b[1;32m      3\u001b[0m \u001b[0;32mimport\u001b[0m \u001b[0mtorch\u001b[0m\u001b[0;34m.\u001b[0m\u001b[0mnn\u001b[0m \u001b[0;32mas\u001b[0m \u001b[0mnn\u001b[0m\u001b[0;34m\u001b[0m\u001b[0m\n\u001b[1;32m      4\u001b[0m \u001b[0;32mimport\u001b[0m \u001b[0mmatplotlib\u001b[0m\u001b[0;34m.\u001b[0m\u001b[0mpyplot\u001b[0m \u001b[0;32mas\u001b[0m \u001b[0mplt\u001b[0m\u001b[0;34m\u001b[0m\u001b[0m\n\u001b[1;32m      5\u001b[0m \u001b[0;32mfrom\u001b[0m \u001b[0mtorch\u001b[0m\u001b[0;34m.\u001b[0m\u001b[0mutils\u001b[0m\u001b[0;34m.\u001b[0m\u001b[0mdata\u001b[0m \u001b[0;32mimport\u001b[0m \u001b[0mDataLoader\u001b[0m\u001b[0;34m\u001b[0m\u001b[0m\n",
      "\u001b[0;31mImportError\u001b[0m: No module named torch"
     ]
    }
   ],
   "source": [
    "import numpy as np\n",
    "import torch\n",
    "import torch.nn as nn \n",
    "import matplotlib.pyplot as plt\n",
    "from torch.utils.data import DataLoader\n",
    "import pandas as pd\n",
    "from sklearn.model_selection import train_test_split\n",
    "from torch.autograd import Variable"
   ]
  },
  {
   "cell_type": "markdown",
   "metadata": {},
   "source": [
    "## Matrizes\n",
    "\n",
    "* Matrizes em Pytorch são chamadas de Tensores\n",
    "* Uma matriz 3x3 é um tensor 3x3"
   ]
  },
  {
   "cell_type": "code",
   "execution_count": 2,
   "metadata": {},
   "outputs": [
    {
     "name": "stdout",
     "output_type": "stream",
     "text": [
      "Tipo do Array: <built-in method type of Tensor object at 0x7f049ce86240>\n",
      "Formato do Array: torch.Size([2, 3])\n",
      "tensor([[1., 2., 3.],\n",
      "        [4., 5., 6.]])\n"
     ]
    }
   ],
   "source": [
    "array = [[1, 2, 3,], [4, 5, 6]]\n",
    "tensor = torch.Tensor(array)\n",
    "print('Tipo do Array: {}' .format(tensor.type))\n",
    "print('Formato do Array: {}'.format(tensor.shape))\n",
    "print(tensor)"
   ]
  },
  {
   "cell_type": "markdown",
   "metadata": {},
   "source": [
    "## Variáveis\n",
    "\n",
    "* Variáveis geram gradientes\n",
    "* Para criarmos BackwardPropagarion precisamos de variaveis"
   ]
  },
  {
   "cell_type": "code",
   "execution_count": 3,
   "metadata": {},
   "outputs": [
    {
     "data": {
      "text/plain": [
       "tensor([1., 1., 1.], requires_grad=True)"
      ]
     },
     "execution_count": 3,
     "metadata": {},
     "output_type": "execute_result"
    }
   ],
   "source": [
    "from torch.autograd import Variable\n",
    "\n",
    "var = Variable(torch.ones(3), requires_grad=True)\n",
    "var"
   ]
  },
  {
   "cell_type": "markdown",
   "metadata": {},
   "source": [
    "### Backward Propagation\n",
    "\n",
    "* Seja: $ y = x^2$\n",
    "* Se $ x = [2,4] $, então $ y = [4, 16]$\n",
    "* A equação de Recap: $ o = (1 / 2) * sum(y) $\n"
   ]
  },
  {
   "cell_type": "code",
   "execution_count": 4,
   "metadata": {},
   "outputs": [
    {
     "name": "stdout",
     "output_type": "stream",
     "text": [
      "o =  tensor(10., grad_fn=<MulBackward0>)\n",
      "gradientes:  tensor([2., 4.])\n"
     ]
    }
   ],
   "source": [
    "array =[2, 4]\n",
    "tensor = torch.Tensor(array)\n",
    "x = Variable(tensor, requires_grad=True)\n",
    "y = x**2\n",
    "\n",
    "o = (1/2)*sum(y)\n",
    "print('o = ', o)\n",
    "\n",
    "o.backward()\n",
    "print('gradientes: ', x.grad)"
   ]
  },
  {
   "cell_type": "markdown",
   "metadata": {},
   "source": [
    "## Regressão Linear\n",
    "\n",
    "* $ y = Ax + B $, A = Acentuação da reta, B = BIAS\n",
    "\n",
    "1. Crie uma classe de LinearRegression\n",
    "2. Defina o modelo\n",
    "3. MSE: Mean Squared Error\n",
    "4. Backpropagation\n",
    "5. Prediction\n",
    "\n"
   ]
  },
  {
   "cell_type": "code",
   "execution_count": 5,
   "metadata": {},
   "outputs": [
    {
     "name": "stdout",
     "output_type": "stream",
     "text": [
      "epoch 0, loss 137.6436767578125\n",
      "epoch 50, loss 5.158524990081787\n",
      "epoch 100, loss 3.4858317375183105\n",
      "epoch 150, loss 2.355522871017456\n",
      "epoch 200, loss 1.5917234420776367\n",
      "epoch 250, loss 1.0755943059921265\n",
      "epoch 300, loss 0.7268245816230774\n",
      "epoch 350, loss 0.49114561080932617\n",
      "epoch 400, loss 0.3318884074687958\n",
      "epoch 450, loss 0.22427143156528473\n",
      "epoch 500, loss 0.1515500396490097\n",
      "epoch 550, loss 0.10240871459245682\n",
      "epoch 600, loss 0.06920214742422104\n",
      "epoch 650, loss 0.046762872487306595\n",
      "epoch 700, loss 0.03159952536225319\n",
      "epoch 750, loss 0.021353155374526978\n",
      "epoch 800, loss 0.014429481700062752\n",
      "epoch 850, loss 0.009750614874064922\n",
      "epoch 900, loss 0.0065888515673577785\n",
      "epoch 950, loss 0.004452345427125692\n",
      "epoch 1000, loss 0.003008646657690406\n"
     ]
    },
    {
     "data": {
      "image/png": "[encoded data removed]",
      "text/plain": [
       "<Figure size 432x288 with 1 Axes>"
      ]
     },
     "metadata": {
      "needs_background": "light"
     },
     "output_type": "display_data"
    },
    {
     "data": {
      "image/png": "[encoded data removed]",
      "text/plain": [
       "<Figure size 432x288 with 1 Axes>"
      ]
     },
     "metadata": {
      "needs_background": "light"
     },
     "output_type": "display_data"
    }
   ],
   "source": [
    "array = [3, 4, 5, 6, 7, 8, 9]\n",
    "array_np = np.array(array, dtype=np.float32)\n",
    "array_np = array_np.reshape(-1, 1)\n",
    "array_2 = [7.5,7,6.5,6.0,5.5,5.0,4.5]\n",
    "array_2_np = np.array(array_2, dtype=np.float32)\n",
    "array_2_np = array_2_np.reshape(-1, 1)\n",
    "var = Variable(torch.from_numpy(array_np))\n",
    "var_2 = Variable(torch.from_numpy(array_2_np))\n",
    "###############Criando Classe de Regressao Linear##########################################\n",
    "class RegressaoLinear(nn.Module):\n",
    "    def __init__(self, input_size, output_size):\n",
    "        super(RegressaoLinear, self).__init__()\n",
    "        self.linear = nn.Linear(input_dim, output_dim)\n",
    "        \n",
    "    def forward(self, x):\n",
    "        return self.linear(x)\n",
    "    \n",
    "################Definindo o Modelo#####################3\n",
    "input_dim = 1\n",
    "output_dim = 1 \n",
    "model = RegressaoLinear(input_dim, output_dim)\n",
    "################DEFININDO MSE####################\n",
    "mse = nn.MSELoss()\n",
    "#################Optimizando o modelo#############\n",
    "# Encontrar parametros que minimizam o erro (famoso fittar)\n",
    "learning_rate = 0.02\n",
    "optimizer = torch.optim.SGD(model.parameters(), lr = learning_rate)\n",
    "###################Treinando o modelo############33\n",
    "loss_list = []\n",
    "n_interacao = 1001\n",
    "for interacao in range(n_interacao):\n",
    "    optimizer.zero_grad()\n",
    "    resultados = model(var)\n",
    "    loss = mse(resultados, var_2)\n",
    "    loss.backward()\n",
    "    optimizer.step()\n",
    "    loss_list.append(loss.data)\n",
    "    \n",
    "    if(interacao % 50 == 0):\n",
    "        print('epoch {}, loss {}'.format(interacao, loss.data))\n",
    "        \n",
    "plt.plot(range(n_interacao), loss_list)\n",
    "plt.xlabel('Numero de interacao')\n",
    "plt.ylabel('Loss')\n",
    "plt.show()\n",
    "###################Fazendo Predict#########################\n",
    "predicted = model(var).data.numpy()\n",
    "plt.scatter(array, array_2, label = 'dados originais', color='red')\n",
    "plt.scatter(var, predicted, label = 'predicted', color='green')\n",
    "plt.legend()\n",
    "plt.show()"
   ]
  },
  {
   "cell_type": "markdown",
   "metadata": {},
   "source": [
    "## Regressão Logistica\n",
    "\n",
    "* Bom para classificação\n",
    "* Regressao Linear + Funcao Logistica(SoftMax) = Regressao Logistica\n",
    "\n",
    "1. Preparar o Dataset \n",
    "\n",
    "    1.1. MNIST - Imagens 28x28 com labels de 0 a 9\n",
    "    \n",
    "    1.2. Nao ta normalizado, então divide-se a imagem por 255\n",
    "    \n",
    "    1.3. Crie Train Test em 80/20\n",
    "    \n",
    "    1.4. Crie Tensores e Variaveis\n",
    "    \n",
    "    1.5. Batch_size são os tramanhos dos grupos de treinamento\n",
    "    \n",
    "    1.6 Epoch = 1 significa treinar todos os dados uma vez\n",
    "    \n",
    "    1.7 TensorDataset(), Cada amostra é recuperada indexando os tensores em 1 dimensão\n",
    "    \n",
    "    1.8 DataLoader(), Combina o dataset e a amostra\n",
    "    \n",
    "    1.9 Visualize uma das imagens do dataset\n",
    "    \n",
    "2. Criar modelo de Regressão Logistica\n",
    "\n",
    "3. Configure o modelo\n",
    " \n",
    "    3.1 Input_dim = 2828\n",
    "    \n",
    "    3.2 Output_dim = 10\n",
    "    \n",
    "4. Função de perda\n",
    "\n",
    "    4.1 Calcule Cross Entropy Loss\n",
    "  \n",
    "5. Optimização\n",
    "    \n",
    "    5.1 SGD Optimizer\n",
    "\n",
    "6. Treine o Modelo\n",
    "\n",
    "7. Predict"
   ]
  },
  {
   "cell_type": "code",
   "execution_count": 6,
   "metadata": {},
   "outputs": [
    {
     "data": {
      "image/png": "[encoded data removed]",
      "text/plain": [
       "<Figure size 432x288 with 1 Axes>"
      ]
     },
     "metadata": {
      "needs_background": "light"
     },
     "output_type": "display_data"
    }
   ],
   "source": [
    "train = pd.read_csv('MNIST_data/mnist_train.csv')\n",
    "x_numpy = train.loc[:, train.columns != 'label'].values/255\n",
    "y_numpy = train.label.values\n",
    "\n",
    "##############Train_test_split#########################\n",
    "\n",
    "train_x, test_x, train_y, test_y = train_test_split(x_numpy, y_numpy, test_size = 0.2, random_state = 42)\n",
    "\n",
    "#################Tensores#############################33\n",
    "\n",
    "x_train = torch.from_numpy(train_x).type(torch.float32)\n",
    "y_train = torch.from_numpy(train_y).type(torch.LongTensor)\n",
    "x_test = torch.from_numpy(test_x).type(torch.float32)\n",
    "y_test = torch.from_numpy(test_y).type(torch.LongTensor)\n",
    "###########Batch_size$$###########################3\n",
    "\n",
    "batch_size = 100\n",
    "n_iters = 10000\n",
    "n_epochs = n_iters / (len(train_x) / batch_size)\n",
    "n_epochs = int(n_epochs)\n",
    "\n",
    "##########Pytorch train e test##############\n",
    "\n",
    "train = torch.utils.data.TensorDataset(x_train, y_train)\n",
    "test = torch.utils.data.TensorDataset(x_test, y_test)\n",
    "\n",
    "#########Data Loader###########################3\n",
    "\n",
    "train_loader = DataLoader(train, batch_size = batch_size, shuffle = False)\n",
    "test_loader = DataLoader(test, batch_size = batch_size, shuffle = False)\n",
    "\n",
    "###########Vizualize##################333#\n",
    "\n",
    "plt.imshow(x_numpy[10].reshape(28,28))\n",
    "plt.show()"
   ]
  },
  {
   "cell_type": "code",
   "execution_count": 7,
   "metadata": {},
   "outputs": [],
   "source": [
    "class RegressaoLogistica(nn.Module):\n",
    "    def __init__(self, input_dim, output_dim):\n",
    "        super(RegressaoLogistica, self).__init__()\n",
    "        self.linear = nn.Linear(input_dim, output_dim)\n",
    "        \n",
    "    def forward(self, x):\n",
    "        out = self.linear(x)\n",
    "        return out\n",
    "    \n",
    "input_dim = 28*28\n",
    "output_dim = 10\n",
    "\n",
    "model = RegressaoLogistica(input_dim, output_dim)\n",
    "error = nn.CrossEntropyLoss()\n",
    "learning_rate = 0.002\n",
    "optimizer = torch.optim.SGD(model.parameters(), lr = learning_rate)"
   ]
  },
  {
   "cell_type": "code",
   "execution_count": 8,
   "metadata": {},
   "outputs": [
    {
     "name": "stdout",
     "output_type": "stream",
     "text": [
      "Iteration: 500 Loss: 1.5581523180007935 Accuracy: 74.80833435058594%\n",
      "Iteration: 1000 Loss: 1.254442572593689 Accuracy: 79.64167022705078%\n",
      "Iteration: 1500 Loss: 1.050283670425415 Accuracy: 81.7249984741211%\n",
      "Iteration: 2000 Loss: 0.9110954999923706 Accuracy: 82.68333435058594%\n",
      "Iteration: 2500 Loss: 0.8510586023330688 Accuracy: 83.5250015258789%\n",
      "Iteration: 3000 Loss: 0.8543800115585327 Accuracy: 84.1500015258789%\n",
      "Iteration: 3500 Loss: 0.7458102703094482 Accuracy: 84.65833282470703%\n",
      "Iteration: 4000 Loss: 0.7340488433837891 Accuracy: 85.03333282470703%\n",
      "Iteration: 4500 Loss: 0.5998623967170715 Accuracy: 85.42500305175781%\n",
      "Iteration: 5000 Loss: 0.5935794711112976 Accuracy: 85.6500015258789%\n",
      "Iteration: 5500 Loss: 0.554211437702179 Accuracy: 85.94999694824219%\n",
      "Iteration: 6000 Loss: 0.7228027582168579 Accuracy: 86.09166717529297%\n",
      "Iteration: 6500 Loss: 0.5208513140678406 Accuracy: 86.32499694824219%\n",
      "Iteration: 7000 Loss: 0.6489077806472778 Accuracy: 86.48332977294922%\n",
      "Iteration: 7500 Loss: 0.38255491852760315 Accuracy: 86.66666412353516%\n",
      "Iteration: 8000 Loss: 0.3703700602054596 Accuracy: 86.89167022705078%\n",
      "Iteration: 8500 Loss: 0.43521609902381897 Accuracy: 87.11666870117188%\n",
      "Iteration: 9000 Loss: 0.5558865070343018 Accuracy: 87.2249984741211%\n",
      "Iteration: 9500 Loss: 0.6382042169570923 Accuracy: 87.33333587646484%\n"
     ]
    },
    {
     "data": {
      "image/png": "[encoded data removed]",
      "text/plain": [
       "<Figure size 432x288 with 1 Axes>"
      ]
     },
     "metadata": {
      "needs_background": "light"
     },
     "output_type": "display_data"
    }
   ],
   "source": [
    "count = 0\n",
    "loss_list = []\n",
    "iteration_list = []\n",
    "\n",
    "for epoch in range(n_epochs):\n",
    "    for i, (img, labels) in enumerate(train_loader):\n",
    "        train = Variable(img.view(-1, 28*28))\n",
    "        labels = Variable(labels)\n",
    "        optimizer.zero_grad()\n",
    "        outputs = model(train)\n",
    "        loss = error(outputs, labels)\n",
    "        loss.backward()\n",
    "        optimizer.step()\n",
    "        count += 1\n",
    "        \n",
    "        if count % 50 == 0:\n",
    "            correct = 0\n",
    "            total = 0\n",
    "            \n",
    "            for img, labels in test_loader:\n",
    "                test = Variable(img.view(-1, 28*28))\n",
    "                outputs = model(test)\n",
    "                predicted = torch.max(outputs.data, 1)[1]\n",
    "                total += len(labels)\n",
    "                correct += (predicted == labels).sum()\n",
    "            accuracy = 100 * correct / float(total)\n",
    "            loss_list.append(loss.data)\n",
    "            iteration_list.append(count)\n",
    "            \n",
    "        if count % 500 == 0:\n",
    "            print('Iteration: {} Loss: {} Accuracy: {}%'.format(count, loss.data, accuracy))\n",
    "            \n",
    "plt.plot(iteration_list, loss_list)\n",
    "plt.xlabel('Numero de interacoes')\n",
    "plt.ylabel('Loss')\n",
    "plt.show()\n"
   ]
  },
  {
   "cell_type": "markdown",
   "metadata": {},
   "source": [
    "## Artificial Neural Network\n",
    "\n"
   ]
  },
  {
   "cell_type": "code",
   "execution_count": 9,
   "metadata": {},
   "outputs": [],
   "source": [
    "class Rede_Neural(nn.Module):\n",
    "    def __init__(self, input_dim, hidden_dim, output_dim):\n",
    "        super(Rede_Neural, self).__init__()\n",
    "        \n",
    "        self.f_1 = nn.Linear(input_dim, hidden_dim)\n",
    "        self.relu_1 = nn.ReLU()\n",
    "        self.f_2 = nn.Linear(hidden_dim, hidden_dim)\n",
    "        self.tanh_1 = nn.Tanh()\n",
    "        self.f_3 = nn.Linear(hidden_dim, hidden_dim)\n",
    "        self.elu_1 = nn.ELU()\n",
    "        self.f_4 = nn.Linear(hidden_dim, output_dim)\n",
    "        \n",
    "    def forward(self, x):\n",
    "        out = self.f_1(x)\n",
    "        out = self.relu_1(out)\n",
    "        out = self.f_2(out)\n",
    "        out = self.tanh_1(out)\n",
    "        out = self.f_3(out)\n",
    "        out = self.elu_1(out)\n",
    "        out = self.f_4(out)\n",
    "        return out\n",
    "    \n",
    "imput_dim = 28*28\n",
    "hidden_dim = 150\n",
    "output_dim = 10\n",
    "model = Rede_Neural(input_dim, hidden_dim, output_dim)\n",
    "error = nn.CrossEntropyLoss()\n",
    "learning_rate = 0.02\n",
    "optimizer = torch.optim.SGD(model.parameters(), lr = learning_rate)"
   ]
  },
  {
   "cell_type": "code",
   "execution_count": 10,
   "metadata": {},
   "outputs": [
    {
     "name": "stdout",
     "output_type": "stream",
     "text": [
      "Iteration: 500 Loss: 0.8335780501365662 Accuracy: 77.7750015258789 %\n",
      "Iteration: 1000 Loss: 0.44899681210517883 Accuracy: 87.57499694824219 %\n",
      "Iteration: 1500 Loss: 0.3824537694454193 Accuracy: 90.2750015258789 %\n",
      "Iteration: 2000 Loss: 0.35228657722473145 Accuracy: 91.25 %\n",
      "Iteration: 2500 Loss: 0.23278041183948517 Accuracy: 92.08333587646484 %\n",
      "Iteration: 3000 Loss: 0.3654695153236389 Accuracy: 92.81666564941406 %\n",
      "Iteration: 3500 Loss: 0.26973456144332886 Accuracy: 93.5 %\n",
      "Iteration: 4000 Loss: 0.24703161418437958 Accuracy: 94.08333587646484 %\n",
      "Iteration: 4500 Loss: 0.19898678362369537 Accuracy: 94.42500305175781 %\n",
      "Iteration: 5000 Loss: 0.1513471007347107 Accuracy: 94.875 %\n",
      "Iteration: 5500 Loss: 0.1242913231253624 Accuracy: 95.26667022705078 %\n",
      "Iteration: 6000 Loss: 0.14567549526691437 Accuracy: 95.54166412353516 %\n",
      "Iteration: 6500 Loss: 0.08388151228427887 Accuracy: 95.66666412353516 %\n",
      "Iteration: 7000 Loss: 0.13195377588272095 Accuracy: 95.89167022705078 %\n",
      "Iteration: 7500 Loss: 0.039269547909498215 Accuracy: 96.17500305175781 %\n",
      "Iteration: 8000 Loss: 0.1112123504281044 Accuracy: 96.38333129882812 %\n",
      "Iteration: 8500 Loss: 0.05872800201177597 Accuracy: 96.39167022705078 %\n",
      "Iteration: 9000 Loss: 0.04364018514752388 Accuracy: 96.5250015258789 %\n",
      "Iteration: 9500 Loss: 0.07745128124952316 Accuracy: 96.67500305175781 %\n"
     ]
    },
    {
     "data": {
      "image/png": "[encoded data removed]",
      "text/plain": [
       "<Figure size 432x288 with 1 Axes>"
      ]
     },
     "metadata": {
      "needs_background": "light"
     },
     "output_type": "display_data"
    },
    {
     "data": {
      "image/png": "[encoded data removed]",
      "text/plain": [
       "<Figure size 432x288 with 1 Axes>"
      ]
     },
     "metadata": {
      "needs_background": "light"
     },
     "output_type": "display_data"
    }
   ],
   "source": [
    "count = 0\n",
    "loss_list = []\n",
    "iteraction_list = []\n",
    "accuracy_list = []\n",
    "\n",
    "for epoch in range(n_epochs):\n",
    "    for i, (img, labels) in enumerate(train_loader):\n",
    "        \n",
    "        train = Variable(img.view(-1, 28*28))\n",
    "        labels = Variable(labels)\n",
    "        \n",
    "        optimizer.zero_grad()\n",
    "        outputs = model(train)\n",
    "        loss = error(outputs, labels)\n",
    "        loss.backward()\n",
    "        optimizer.step()\n",
    "        count += 1\n",
    "\n",
    "        if count % 50 == 0 :\n",
    "            correct = 0\n",
    "            total = 0\n",
    "            for img, labels in test_loader:\n",
    "                test = Variable(img.view(-1, 28*28))\n",
    "                outputs = model(test)\n",
    "                predicted = torch.max(outputs.data, 1)[1]\n",
    "                total += len(labels)\n",
    "                correct += (predicted == labels).sum()\n",
    "            \n",
    "            accuracy = 100 * correct / float(total)\n",
    "            loss_list.append(loss.data)\n",
    "            iteraction_list.append(count)\n",
    "            accuracy_list.append(accuracy)\n",
    "        if count % 500 == 0:\n",
    "            print('Iteration: {} Loss: {} Accuracy: {} %'.format(count, loss.data, accuracy))\n",
    "#################################################################################333\n",
    "plt.plot(iteraction_list,loss_list)\n",
    "plt.xlabel(\"Number of iteration\")\n",
    "plt.ylabel(\"Loss\")\n",
    "plt.title(\"ANN: Loss vs Number of iteration\")\n",
    "plt.show()\n",
    "\n",
    "\n",
    "plt.plot(iteraction_list,accuracy_list,color = \"red\")\n",
    "plt.xlabel(\"Number of iteration\")\n",
    "plt.ylabel(\"Accuracy\")\n",
    "plt.title(\"ANN: Accuracy vs Number of iteration\")\n",
    "plt.show()"
   ]
  },
  {
   "cell_type": "markdown",
   "metadata": {},
   "source": [
    "## Convolutional Neural Network\n",
    "\n",
    "* CNN é utilizado para classificar Imagens\n",
    "\n",
    "1. Convolutional Layer\n",
    "    \n",
    "    1.1. Crie mapas de Features com filtros (kernels)\n",
    "    \n",
    "    1.2. Padding: após aplicação, as dimensões da imagem original diminuem\n",
    "    \n",
    "    1.3. 2 camadas Convulocionais\n",
    "    \n",
    "    1.4. Numero de Features map é out_channel = 16\n",
    "    \n",
    "    1.5. O tamanho do filtro (kernel) é 2*2\n",
    "    \n",
    "2. Pooling Layer\n",
    "    \n",
    "    2.1. Preparar um feature map condensado a partir do output convolutional layer\n",
    "    \n",
    "    2.2. 2 Pooling layers (max pooling)\n",
    "    \n",
    "    2.3. Tamanho do Pooling é 2*2\n",
    "    \n",
    "3. Flattening: Achata a Feature map\n",
    "\n",
    "4. Fully Connected Layer\n",
    "\n",
    "    4.1. ANN ou uma função linear, mas no fim sempre utiliza-se a função Softmax\n",
    "    \n",
    "    4.2. Não utilizaremos uma função de ativação \n",
    "    \n",
    "    4.3. Combina-se a parter Convulocional com a Regressão Logistica para criar a CNN\n",
    "    \n",
    "    \n",
    "5. Crie a Classe do modelo\n",
    "\n",
    "6. Crie as funções de Loss\n",
    "\n",
    "7. Criar o Otimizador\n",
    "\n",
    "8. Treinar e Predict"
   ]
  },
  {
   "cell_type": "code",
   "execution_count": 19,
   "metadata": {},
   "outputs": [],
   "source": [
    "class CNN(nn.Module):\n",
    "    def __init__(self):\n",
    "        super(CNN, self).__init__()\n",
    "        \n",
    "        self.cnn_1 = nn.Conv2d(in_channels=1, out_channels=16, kernel_size=5, stride=1, padding=0)\n",
    "        self.relu_1 = nn.ReLU()\n",
    "        self.maxpool_1 = nn.MaxPool2d(kernel_size=2)\n",
    "        self.cnn_2 = nn.Conv2d(in_channels=16, out_channels=32, kernel_size=5, stride=1, padding=0)\n",
    "        self.relu_2 = nn.ReLU()\n",
    "        self.maxpool_2 = nn.MaxPool2d(kernel_size=2)\n",
    "        self.fully_1 = nn.Linear(32 * 4 * 4, 10)\n",
    "        \n",
    "    def forward(self, x):\n",
    "        out = self.cnn_1(x)\n",
    "        out = self.relu_1(out)\n",
    "        out = self.maxpool_1(out)\n",
    "        out = self.cnn_2(out)\n",
    "        out = self.relu_2(out)\n",
    "        out = self.maxpool_2(out)\n",
    "        out = out.view(out.size(0), -1)\n",
    "        out = self.fully_1(out)\n",
    "        return out\n",
    "#############################################################################\n",
    "batch_size = 100\n",
    "n_iters = 2500\n",
    "num_epochs = n_iters / (len(x_train) / batch_size)\n",
    "num_epochs = int(num_epochs)\n",
    "\n",
    "model = CNN()\n",
    "\n",
    "error = nn.CrossEntropyLoss()\n",
    "\n",
    "learning_rate = 0.02\n",
    "optimizer = torch.optim.SGD(model.parameters(), lr = learning_rate)"
   ]
  },
  {
   "cell_type": "code",
   "execution_count": 20,
   "metadata": {},
   "outputs": [
    {
     "name": "stdout",
     "output_type": "stream",
     "text": [
      "Iteration: 500 Loss: 0.2431170791387558 Accuracy: 92.45832824707031 %\n",
      "Iteration: 1000 Loss: 0.1365143209695816 Accuracy: 95.34166717529297 %\n",
      "Iteration: 1500 Loss: 0.159558966755867 Accuracy: 96.56666564941406 %\n",
      "Iteration: 2000 Loss: 0.18023329973220825 Accuracy: 96.76667022705078 %\n"
     ]
    },
    {
     "data": {
      "image/png": "[encoded data removed]",
      "text/plain": [
       "<Figure size 432x288 with 1 Axes>"
      ]
     },
     "metadata": {
      "needs_background": "light"
     },
     "output_type": "display_data"
    },
    {
     "data": {
      "image/png": "[encoded data removed]",
      "text/plain": [
       "<Figure size 432x288 with 1 Axes>"
      ]
     },
     "metadata": {
      "needs_background": "light"
     },
     "output_type": "display_data"
    }
   ],
   "source": [
    "count = 0\n",
    "loss_list = []\n",
    "accuracy_list = []\n",
    "iteration_list = []\n",
    "\n",
    "for epoch in range(num_epochs):\n",
    "    for i, (img, labels) in enumerate(train_loader):\n",
    "        \n",
    "        train = Variable(img.view(100,1,28,28))\n",
    "        labels = Variable(labels)\n",
    "        optimizer.zero_grad()\n",
    "        outputs = model(train)\n",
    "        loss = error(outputs, labels)\n",
    "        loss.backward()\n",
    "        optimizer.step()\n",
    "        count += 1\n",
    "        \n",
    "        if count % 50 == 0:\n",
    "            correct = 0\n",
    "            total = 0\n",
    "            \n",
    "            for images, labels in test_loader:\n",
    "                test = Variable(images.view(100, 1, 28, 28))\n",
    "                outputs = model(test)\n",
    "                predicted = torch.max(outputs.data, 1)[1]\n",
    "                total += len(labels)\n",
    "                correct += (predicted == labels).sum()\n",
    "                \n",
    "            accuracy = 100 * (correct / float(total))\n",
    "            loss_list.append(loss.data)\n",
    "            iteration_list.append(count)\n",
    "            accuracy_list.append(accuracy)\n",
    "        \n",
    "        if count % 500 == 0:\n",
    "            print('Iteration: {} Loss: {} Accuracy: {} %'.format(count, loss.data, accuracy))\n",
    "            \n",
    "plt.plot(iteration_list,loss_list)\n",
    "plt.xlabel(\"N_iteration\")\n",
    "plt.ylabel(\"Loss\")\n",
    "plt.title(\"CNN: Loss vs N_iteration\")\n",
    "plt.show()\n",
    "\n",
    "# visualization accuracy \n",
    "plt.plot(iteration_list,accuracy_list,color = \"red\")\n",
    "plt.xlabel(\"N_iteration\")\n",
    "plt.ylabel(\"Accuracy\")\n",
    "plt.title(\"CNN: Accuracy vs N_iteration\")\n",
    "plt.show()"
   ]
  }
 ],
 "metadata": {
  "kernelspec": {
   "display_name": "Python 3",
   "language": "python",
   "name": "python3"
  },
  "language_info": {
   "codemirror_mode": {
    "name": "ipython",
    "version": 2
   },
   "file_extension": ".py",
   "mimetype": "text/x-python",
   "name": "python",
   "nbconvert_exporter": "python",
   "pygments_lexer": "ipython2",
   "version": "2.7.17"
  }
 },
 "nbformat": 4,
 "nbformat_minor": 4
}

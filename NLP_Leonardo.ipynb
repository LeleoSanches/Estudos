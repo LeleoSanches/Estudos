{
 "cells": [
  {
   "cell_type": "markdown",
   "metadata": {},
   "source": [
    "# Exercicio de NLP \n",
    "\n",
    "## Estudos em Sentiment Analysis"
   ]
  },
  {
   "cell_type": "code",
   "execution_count": 89,
   "metadata": {},
   "outputs": [],
   "source": [
    "import numpy as np\n",
    "import pandas as pd\n",
    "import seaborn as sns\n",
    "import matplotlib.pyplot as plt\n",
    "\n",
    "import nltk\n",
    "from nltk.corpus import stopwords\n",
    "from nltk.stem.porter import PorterStemmer\n",
    "from wordcloud import WordCloud, STOPWORDS\n",
    "from nltk.stem import WordNetLemmatizer\n",
    "from nltk.tokenize import word_tokenize, sent_tokenize\n",
    "from nltk.tokenize.toktok import ToktokTokenizer\n",
    "\n",
    "\n",
    "import spacy\n",
    "import re, string, unicodedata\n",
    "\n",
    "\n",
    "from sklearn.feature_extraction.text import CountVectorizer\n",
    "from sklearn.feature_extraction.text import TfidfVectorizer\n",
    "from sklearn.preprocessing import LabelBinarizer\n",
    "from sklearn.linear_model import LogisticRegression, SGDClassifier\n",
    "from sklearn.metrics import classification_report, confusion_matrix, accuracy_score\n",
    "\n",
    "\n",
    "import torch\n",
    "import torch.nn as nn\n",
    "import torch.nn.functional as F\n",
    "from torch.autograd import Variable\n",
    "from torch.utils.data import DataLoader\n",
    "import tensorflow as tf\n"
   ]
  },
  {
   "cell_type": "code",
   "execution_count": 18,
   "metadata": {},
   "outputs": [],
   "source": [
    "df_list = []\n",
    "\n",
    "class setup(object):\n",
    "\n",
    "    def __init__(self):\n",
    "        pass\n",
    "\n",
    "    def extract_plis(self, source:str, path:str):\n",
    "        self.path = path\n",
    "        data_raw = pd.read_csv(self.path, names=['sentence', 'label'], sep='\\t')\n",
    "        data_raw['source'] =  source\n",
    "        df_list.append(data_raw)\n",
    "        \n",
    "    def concat_plis(self):\n",
    "        self.df = pd.concat(df_list)\n",
    "        return self.df\n",
    "        \n",
    "    \n",
    "    def separa_train_test(self, perc_train:float=0.85, show_size:bool=False):\n",
    "        len_train = int(len(self.df)*perc_train)\n",
    "        self.dataset_train = self.df.iloc[0:len_train, :-1]\n",
    "        self.dataset_test = self.df.iloc[len_train:,:-1 ]\n",
    "        if show_size == True:\n",
    "            print('Porcentagem de Train: ', perc_train * 100)\n",
    "            print('Tamanho do Train:', len(self.dataset_train))\n",
    "            print('Porcentagem de Test: ', 100 - perc_train *100)\n",
    "            print('Tamanho do Test:', len(self.dataset_test))\n",
    "        return self.dataset_train, self.dataset_test\n",
    "        \n",
    "a = setup()\n",
    "a.extract_plis('Amazon','NLP/sentiment labelled sentences/amazon_cells_labelled.txt')\n",
    "a.extract_plis('IMDb','NLP/sentiment labelled sentences/imdb_labelled.txt')\n",
    "a.extract_plis('Yelp','NLP/sentiment labelled sentences/yelp_labelled.txt')\n",
    "data = a.concat_plis()\n",
    "data_train, data_test = a.separa_train_test(show_size=False)\n"
   ]
  },
  {
   "cell_type": "code",
   "execution_count": 19,
   "metadata": {},
   "outputs": [],
   "source": [
    "stopword_list = nltk.corpus.stopwords.words('english')\n",
    "tokenizer = ToktokTokenizer()\n",
    "\n",
    "##############################################\n",
    "def tira_ruido_textual(texto):\n",
    "    return  re.sub('\\[[^]]*\\]', '', texto)\n",
    "    \n",
    "def denoiser(texto):\n",
    "    texto = tira_ruido_textual(texto)\n",
    "    return texto\n",
    "\n",
    "def denoiser_2(texto):\n",
    "    pattern = r'[^a-zA-z0-9\\s]'\n",
    "    texto = re.sub(pattern,'',texto)\n",
    "    return texto\n",
    "\n",
    "def stemmer_plis(texto):\n",
    "    stemmer = nltk.porter.PorterStemmer()\n",
    "    texto = ' '.join([stemmer.stem(word) for word in texto.split()])\n",
    "    return texto\n",
    "\n",
    "def remove_stopwords_plis(texto, caixa_alta:bool=False):\n",
    "    tokens = tokenizer.tokenize(texto)\n",
    "    tokens = [token.strip() for token in tokens]\n",
    "    if caixa_alta==True:\n",
    "        tokens_filter = [token for token in tokens if token not in stopword_list]\n",
    "    else:\n",
    "        tokens_filter = [token for token in tokens if token.lower() not in stopword_list]\n",
    "    tokens_filter = ' '.join(tokens_filter)\n",
    "    return tokens_filter\n",
    "#########################################\n",
    "\n",
    "data_train['sentence'] = data_train['sentence'].apply(denoiser)\n",
    "data_test['sentence'] = data_test['sentence'].apply(denoiser)\n",
    "data_train['sentence'] = data_train['sentence'].apply(denoiser_2)\n",
    "data_test['sentence'] = data_test['sentence'].apply(denoiser_2)\n",
    "data_train['sentence'] = data_train['sentence'].apply(stemmer_plis)\n",
    "data_test['sentence'] = data_test['sentence'].apply(stemmer_plis)\n",
    "data_train['sentence'] = data_train['sentence'].apply(remove_stopwords_plis)\n",
    "data_test['sentence'] = data_test['sentence'].apply(remove_stopwords_plis)\n",
    "\n",
    "##############################################\n"
   ]
  },
  {
   "cell_type": "markdown",
   "metadata": {},
   "source": [
    "### Bag of words"
   ]
  },
  {
   "cell_type": "code",
   "execution_count": 20,
   "metadata": {},
   "outputs": [
    {
     "name": "stdout",
     "output_type": "stream",
     "text": [
      "BOW_cv_train: (2335, 26993)\n",
      "BOW_cv_test: (413, 26993)\n"
     ]
    }
   ],
   "source": [
    "cv = CountVectorizer(min_df=0, max_df=1, binary=False, ngram_range=(1,3))\n",
    "cv_train_review = cv.fit_transform(data_train['sentence'])\n",
    "cv_test_review = cv.transform(data_test['sentence'])\n",
    "print('BOW_cv_train:', cv_train_review.shape)\n",
    "print('BOW_cv_test:', cv_test_review.shape)"
   ]
  },
  {
   "cell_type": "markdown",
   "metadata": {},
   "source": [
    "### Term Frequency-Inverse Document Frequency Model (TFIDF)"
   ]
  },
  {
   "cell_type": "code",
   "execution_count": 21,
   "metadata": {},
   "outputs": [
    {
     "name": "stdout",
     "output_type": "stream",
     "text": [
      "Tfidf_train: (2335, 26993)\n",
      "Tfidf_test: (413, 26993)\n"
     ]
    }
   ],
   "source": [
    "tv = TfidfVectorizer(min_df=0, max_df=1, use_idf=True, ngram_range=(1,3))\n",
    "tv_train_review = tv.fit_transform(data_train['sentence'])\n",
    "tv_test_review = tv.transform(data_test['sentence'])\n",
    "print('Tfidf_train:', tv_train_review.shape)\n",
    "print('Tfidf_test:', tv_test_review.shape)"
   ]
  },
  {
   "cell_type": "markdown",
   "metadata": {},
   "source": [
    "### Modelo de Regressao Logistica"
   ]
  },
  {
   "cell_type": "code",
   "execution_count": 22,
   "metadata": {},
   "outputs": [
    {
     "name": "stdout",
     "output_type": "stream",
     "text": [
      "              precision    recall  f1-score   support\n",
      "\n",
      "           0       0.81      0.29      0.42       241\n",
      "           1       0.48      0.91      0.62       172\n",
      "\n",
      "    accuracy                           0.54       413\n",
      "   macro avg       0.64      0.60      0.52       413\n",
      "weighted avg       0.67      0.54      0.51       413\n",
      "\n",
      "              precision    recall  f1-score   support\n",
      "\n",
      "           0       0.82      0.27      0.41       241\n",
      "           1       0.47      0.92      0.62       172\n",
      "\n",
      "    accuracy                           0.54       413\n",
      "   macro avg       0.65      0.59      0.52       413\n",
      "weighted avg       0.68      0.54      0.50       413\n",
      "\n"
     ]
    }
   ],
   "source": [
    "\n",
    "model_1 = LogisticRegression(penalty='l2', max_iter=500, C=1, random_state=42)\n",
    "model_1_bow = model_1.fit(cv_train_review, data_train['label'])\n",
    "model_1_tfidf = model_1.fit(tv_train_review, data_train['label'])\n",
    "################################################\n",
    "model_1_bow_predict = model_1.predict(cv_test_review)\n",
    "model_1_tfidf_predict = model_1.predict(tv_test_review)\n",
    "################################################\n",
    "accuracy_1 = classification_report(data_test['label'], model_1_bow_predict)\n",
    "accuracy_2 = classification_report(data_test['label'], model_1_tfidf_predict)\n",
    "#################################################3\n",
    "\n",
    "print(accuracy_1)\n",
    "print(accuracy_2)"
   ]
  },
  {
   "cell_type": "markdown",
   "metadata": {},
   "source": [
    "### Modelo de SGDClassifier"
   ]
  },
  {
   "cell_type": "code",
   "execution_count": 23,
   "metadata": {},
   "outputs": [
    {
     "name": "stdout",
     "output_type": "stream",
     "text": [
      "sgd_bow_acc 0.5617433414043583\n",
      "sgd_tfidf_acc 0.5641646489104116\n"
     ]
    }
   ],
   "source": [
    "sgd = SGDClassifier(loss='hinge', random_state=42)\n",
    "\n",
    "sgd_bow = sgd.fit(cv_train_review, data_train['label'])\n",
    "sgd_bow_pred = sgd.predict(cv_test_review)\n",
    "sgd_bow_acc = accuracy_score(data_test['label'], sgd_bow_pred)\n",
    "print('sgd_bow_acc', sgd_bow_acc)\n",
    "\n",
    "#####################################################\n",
    "sgd_tfidf = sgd.fit(tv_train_review, data_train['label'])\n",
    "sgd_tfidf_pred = sgd.predict(tv_test_review)\n",
    "sgd_tfidf_acc = accuracy_score(data_test['label'], sgd_tfidf_pred)\n",
    "print('sgd_tfidf_acc', sgd_tfidf_acc)\n",
    "####################################################\n"
   ]
  },
  {
   "cell_type": "markdown",
   "metadata": {},
   "source": [
    "### ANN - Tensorflow"
   ]
  },
  {
   "cell_type": "code",
   "execution_count": 261,
   "metadata": {},
   "outputs": [
    {
     "name": "stdout",
     "output_type": "stream",
     "text": [
      "Epoch 1/20\n",
      "73/73 - 0s - loss: 0.6928 - accuracy: 0.5191 - val_loss: 0.6912 - val_accuracy: 0.5835\n",
      "Epoch 2/20\n",
      "73/73 - 0s - loss: 0.6864 - accuracy: 0.5696 - val_loss: 0.6738 - val_accuracy: 0.6852\n",
      "Epoch 3/20\n",
      "73/73 - 0s - loss: 0.6024 - accuracy: 0.7448 - val_loss: 0.5876 - val_accuracy: 0.6877\n",
      "Epoch 4/20\n",
      "73/73 - 0s - loss: 0.4287 - accuracy: 0.8133 - val_loss: 0.5779 - val_accuracy: 0.6877\n",
      "Epoch 5/20\n",
      "73/73 - 0s - loss: 0.3499 - accuracy: 0.8407 - val_loss: 0.5347 - val_accuracy: 0.7143\n",
      "Epoch 6/20\n",
      "73/73 - 0s - loss: 0.3016 - accuracy: 0.8690 - val_loss: 0.6623 - val_accuracy: 0.6780\n",
      "Epoch 7/20\n",
      "73/73 - 0s - loss: 0.2930 - accuracy: 0.8660 - val_loss: 0.5473 - val_accuracy: 0.7337\n",
      "Epoch 8/20\n",
      "73/73 - 0s - loss: 0.2358 - accuracy: 0.9079 - val_loss: 0.5666 - val_accuracy: 0.7337\n",
      "Epoch 9/20\n",
      "73/73 - 0s - loss: 0.2113 - accuracy: 0.9143 - val_loss: 0.6020 - val_accuracy: 0.7191\n",
      "Epoch 10/20\n",
      "73/73 - 0s - loss: 0.1813 - accuracy: 0.9293 - val_loss: 0.6652 - val_accuracy: 0.7046\n",
      "Epoch 11/20\n",
      "73/73 - 0s - loss: 0.1569 - accuracy: 0.9426 - val_loss: 0.6894 - val_accuracy: 0.6925\n",
      "Epoch 12/20\n",
      "73/73 - 0s - loss: 0.1369 - accuracy: 0.9529 - val_loss: 0.7454 - val_accuracy: 0.7119\n",
      "Epoch 13/20\n",
      "73/73 - 0s - loss: 0.1198 - accuracy: 0.9589 - val_loss: 0.7150 - val_accuracy: 0.7215\n",
      "Epoch 14/20\n",
      "73/73 - 0s - loss: 0.1023 - accuracy: 0.9683 - val_loss: 0.8086 - val_accuracy: 0.7046\n",
      "Epoch 15/20\n",
      "73/73 - 0s - loss: 0.0931 - accuracy: 0.9679 - val_loss: 0.8359 - val_accuracy: 0.6998\n",
      "Epoch 16/20\n",
      "73/73 - 0s - loss: 0.0833 - accuracy: 0.9760 - val_loss: 0.8896 - val_accuracy: 0.7385\n",
      "Epoch 17/20\n",
      "73/73 - 0s - loss: 0.0769 - accuracy: 0.9730 - val_loss: 0.9876 - val_accuracy: 0.6925\n",
      "Epoch 18/20\n",
      "73/73 - 0s - loss: 0.0686 - accuracy: 0.9756 - val_loss: 1.0728 - val_accuracy: 0.6973\n",
      "Epoch 19/20\n",
      "73/73 - 0s - loss: 0.0649 - accuracy: 0.9790 - val_loss: 0.9281 - val_accuracy: 0.7312\n",
      "Epoch 20/20\n",
      "73/73 - 0s - loss: 0.0599 - accuracy: 0.9799 - val_loss: 1.0621 - val_accuracy: 0.6877\n"
     ]
    },
    {
     "data": {
      "text/plain": [
       "<tensorflow.python.keras.callbacks.History at 0x7f9d5c1f4700>"
      ]
     },
     "execution_count": 261,
     "metadata": {},
     "output_type": "execute_result"
    }
   ],
   "source": [
    "from tensorflow.keras.preprocessing.text import Tokenizer\n",
    "from tensorflow.keras.preprocessing.sequence import pad_sequences\n",
    "from tensorflow.keras.models import Sequential\n",
    "from tensorflow.keras.layers import Dense, Softmax, Embedding, Flatten\n",
    "from tensorflow.keras.utils import to_categorical\n",
    "\n",
    "\n",
    "############################################################\n",
    "\n",
    "vocab_size = 500\n",
    "padding_type = 'post'\n",
    "truncating_type = 'post'\n",
    "oov_token = '<00V>'\n",
    "\n",
    "#############################################################\n",
    "\n",
    "tokenizer = Tokenizer(num_words=vocab_size, lower=True, oov_token = oov_token)\n",
    "tokenizer.fit_on_texts(data_train.loc[:, 'sentence'])\n",
    "\n",
    "################################################################\n",
    "\n",
    "dataset_train_sequences = tokenizer.texts_to_sequences(data_train.loc[:, 'sentence'])\n",
    "dataset_test_sequences = tokenizer.texts_to_sequences(data_test.loc[:, 'sentence'])\n",
    "\n",
    "#################################################################\n",
    "\n",
    "dataset_train_sequences = pad_sequences(dataset_train_sequences, maxlen =vocab_size,\n",
    "                                        padding=padding_type, truncating=truncating_type)\n",
    "\n",
    "dataset_test_sequences = pad_sequences(dataset_test_sequences, maxlen=vocab_size,\n",
    "                                       padding = padding_type, truncating = truncating_type)\n",
    "\n",
    "##############################################################\n",
    "\n",
    "embedding_dim  = 16\n",
    "optimizer = 'adam'\n",
    "loss = 'binary_crossentropy'\n",
    "\n",
    "model = Sequential()\n",
    "model.add(Embedding(vocab_size, embedding_dim, input_length=vocab_size))\n",
    "model.add(Flatten())\n",
    "model.add(Dense(64, activation='relu'))\n",
    "model.add(Dense(32, activation='relu'))\n",
    "model.add(Dense(1, activation='sigmoid'))\n",
    "\n",
    "model.compile(optimizer=optimizer, loss=loss, metrics=['accuracy'])\n",
    "##############################################################333\n",
    "train_x = dataset_train_sequences\n",
    "train_y = np.array(data_train.loc[:,'label'])\n",
    "test_x = dataset_test_sequences\n",
    "test_y = np.array(data_test.loc[:, 'label'])\n",
    "\n",
    "\n",
    "tensorboard_callback = tf.keras.callbacks.TensorBoard(log_dir=\"./logs\")\n",
    "model.fit(train_x, train_y, epochs=20, validation_data=(test_x, test_y), verbose=2, callbacks=[tensorboard_callback])\n",
    "\n"
   ]
  },
  {
   "cell_type": "markdown",
   "metadata": {},
   "source": [
    "### ANN - Pytorch"
   ]
  },
  {
   "cell_type": "code",
   "execution_count": 276,
   "metadata": {},
   "outputs": [],
   "source": [
    "class Rede_Neural(nn.Module):\n",
    "    def __init__(self, input_dim, hidden_dim, output_dim):\n",
    "        super(Rede_Neural, self).__init__()\n",
    "        \n",
    "        self.f_1 = nn.Linear(input_dim, hidden_dim)\n",
    "        self.relu_1 = nn.ReLU()\n",
    "        self.f_2 = nn.Linear(hidden_dim, hidden_dim)\n",
    "        #self.tanh_1 = nn.ReLU()\n",
    "        #self.f_3 = nn.Linear(hidden_dim, hidden_dim)\n",
    "        self.elu_1 = nn.ReLU()\n",
    "        self.f_4 = nn.Linear(hidden_dim, output_dim)\n",
    "        \n",
    "    def forward(self, x):\n",
    "        out = self.f_1(x)\n",
    "        out = self.relu_1(out)\n",
    "        out = self.f_2(out)\n",
    "        #out = self.tanh_1(out)\n",
    "        #out = self.f_3(out)\n",
    "        out = self.elu_1(out)\n",
    "        out = self.f_4(out)\n",
    "        return out\n",
    "    \n",
    "input_dim = 500\n",
    "hidden_dim = 150\n",
    "output_dim = 16\n",
    "model = Rede_Neural(input_dim, hidden_dim, output_dim)\n",
    "error = nn.CrossEntropyLoss()\n",
    "learning_rate = 0.01\n",
    "optimizer = torch.optim.SGD(model.parameters(), lr = learning_rate)"
   ]
  },
  {
   "cell_type": "code",
   "execution_count": 277,
   "metadata": {},
   "outputs": [
    {
     "name": "stdout",
     "output_type": "stream",
     "text": [
      "Iteration: 500 Loss: 0.8678414821624756 Accuracy: 58.595638275146484 %\n",
      "Iteration: 1000 Loss: 0.7084970474243164 Accuracy: 55.6900749206543 %\n",
      "Iteration: 1500 Loss: 0.5646927356719971 Accuracy: 55.93220520019531 %\n",
      "Iteration: 2000 Loss: 0.339679092168808 Accuracy: 42.85714340209961 %\n",
      "Iteration: 2500 Loss: 0.6761364936828613 Accuracy: 48.9104118347168 %\n",
      "Iteration: 3000 Loss: 0.3979770243167877 Accuracy: 58.353511810302734 %\n",
      "Iteration: 3500 Loss: 0.6835930347442627 Accuracy: 44.06779861450195 %\n",
      "Iteration: 4000 Loss: 0.5126631259918213 Accuracy: 47.69975662231445 %\n",
      "Iteration: 4500 Loss: 0.5375958681106567 Accuracy: 47.45762634277344 %\n",
      "Iteration: 5000 Loss: 0.6281808614730835 Accuracy: 51.33171844482422 %\n",
      "Iteration: 5500 Loss: 0.4211970865726471 Accuracy: 48.9104118347168 %\n",
      "Iteration: 6000 Loss: 0.4766610264778137 Accuracy: 54.47941970825195 %\n",
      "Iteration: 6500 Loss: 0.5165486335754395 Accuracy: 50.36319351196289 %\n",
      "Iteration: 7000 Loss: 0.5681079030036926 Accuracy: 44.06779861450195 %\n",
      "Iteration: 7500 Loss: 0.7405524253845215 Accuracy: 56.65859603881836 %\n",
      "Iteration: 8000 Loss: 0.5308436751365662 Accuracy: 46.246971130371094 %\n",
      "Iteration: 8500 Loss: 0.5833303332328796 Accuracy: 49.87893295288086 %\n",
      "Iteration: 9000 Loss: 0.5100294947624207 Accuracy: 49.87893295288086 %\n",
      "Iteration: 9500 Loss: 0.426588237285614 Accuracy: 49.87893295288086 %\n"
     ]
    },
    {
     "data": {
      "image/png": "[encoded data removed]",
      "text/plain": [
       "<Figure size 432x288 with 1 Axes>"
      ]
     },
     "metadata": {
      "needs_background": "light"
     },
     "output_type": "display_data"
    },
    {
     "data": {
      "image/png": "[encoded data removed]",
      "text/plain": [
       "<Figure size 432x288 with 1 Axes>"
      ]
     },
     "metadata": {
      "needs_background": "light"
     },
     "output_type": "display_data"
    }
   ],
   "source": [
    "x_train = torch.from_numpy(train_x).type(torch.float32)\n",
    "y_train = torch.from_numpy(train_y)\n",
    "x_test = torch.from_numpy(test_x).type(torch.float32)\n",
    "y_test = torch.from_numpy(test_y)\n",
    "\n",
    "train = torch.utils.data.TensorDataset(x_train, y_train)\n",
    "test = torch.utils.data.TensorDataset(x_test, y_test)\n",
    "\n",
    "#########Data Loader###########################3\n",
    "batch_size = 16\n",
    "n_iters = 10000\n",
    "n_epochs = n_iters / (len(train_x) / batch_size)\n",
    "n_epochs = int(n_epochs)\n",
    "\n",
    "train_loader = DataLoader(train, batch_size = 16, shuffle = False)\n",
    "test_loader = DataLoader(test, batch_size = 16, shuffle = False)\n",
    "\n",
    "###################################\n",
    "\n",
    "################################3\n",
    "count = 0\n",
    "loss_list = []\n",
    "accuracy_list = []\n",
    "iteration_list = []\n",
    "\n",
    "for epoch in range(n_epochs):\n",
    "    #for i, sent in enumerate(train_x):\n",
    "    \n",
    "    for i, (img, labels) in enumerate(train_loader):\n",
    "        \n",
    "        train = Variable(img)\n",
    "        labels = Variable(labels)\n",
    "        optimizer.zero_grad()\n",
    "        outputs = model(train)\n",
    "        loss = error(outputs, labels)\n",
    "        loss.backward()\n",
    "        optimizer.step()\n",
    "        count += 1\n",
    "\n",
    "        if count % 5 == 0:\n",
    "            correct = 0\n",
    "            total = 0\n",
    "            \n",
    "            for i, (sent, label) in enumerate(test_loader):\n",
    "           #for images, labels in test_loader:\n",
    "                test = Variable(sent)\n",
    "                label = Variable(label)\n",
    "                output = model(test)\n",
    "                predicted = torch.max(output.data, 1)[1]\n",
    "                total += len(label)\n",
    "                correct += (predicted == label).sum()\n",
    "                \n",
    "            accuracy = 100 * (correct / float(total))\n",
    "            loss_list.append(loss.data)\n",
    "            iteration_list.append(count)\n",
    "            accuracy_list.append(accuracy)\n",
    "        \n",
    "        if count % 500 == 0:\n",
    "            print('Iteration: {} Loss: {} Accuracy: {} %'.format(count, loss.data, accuracy))\n",
    "      \n",
    "    \n",
    "    \n",
    "plt.plot(iteration_list,loss_list)\n",
    "plt.xlabel(\"N_iteration\")\n",
    "plt.ylabel(\"Loss\")\n",
    "plt.title(\"CNN: Loss vs N_iteration\")\n",
    "plt.show()\n",
    "\n",
    "# visualization accuracy \n",
    "plt.plot(iteration_list,accuracy_list,color = \"red\")\n",
    "plt.xlabel(\"N_iteration\")\n",
    "plt.ylabel(\"Accuracy\")\n",
    "plt.title(\"CNN: Accuracy vs N_iteration\")\n",
    "plt.show()\n"
   ]
  },
  {
   "cell_type": "code",
   "execution_count": 230,
   "metadata": {},
   "outputs": [],
   "source": [
    "predicted = torch.max(outputs.data, 1)[1]"
   ]
  },
  {
   "cell_type": "code",
   "execution_count": 211,
   "metadata": {},
   "outputs": [
    {
     "data": {
      "text/plain": [
       "tensor(175)"
      ]
     },
     "execution_count": 211,
     "metadata": {},
     "output_type": "execute_result"
    }
   ],
   "source": [
    "correct"
   ]
  },
  {
   "cell_type": "code",
   "execution_count": 210,
   "metadata": {},
   "outputs": [
    {
     "data": {
      "text/plain": [
       "tensor([0, 0, 0, 0, 0, 0, 0, 0, 0, 0, 0, 0, 0])"
      ]
     },
     "execution_count": 210,
     "metadata": {},
     "output_type": "execute_result"
    }
   ],
   "source": [
    "label"
   ]
  },
  {
   "cell_type": "code",
   "execution_count": 221,
   "metadata": {},
   "outputs": [
    {
     "data": {
      "text/plain": [
       "array([0, 1, 0, 1, 1, 1, 0, 0, 1, 0, 1, 1, 0, 1, 0, 1, 1, 1, 1, 1, 0, 1,\n",
       "       0, 0, 0, 0, 0, 1, 1, 0, 0, 1, 0, 0, 0, 1, 0, 1, 1, 0, 0, 0, 1, 1,\n",
       "       1, 0, 1, 0, 1, 0, 1, 0, 1, 1, 0, 1, 0, 0, 0, 0, 0, 1, 0, 0, 1, 1,\n",
       "       0, 1, 0, 1, 1, 1, 1, 1, 1, 1, 1, 1, 1, 1, 1, 1, 0, 0, 1, 0, 1, 1,\n",
       "       1, 1, 0, 1, 0, 1, 0, 1, 1, 1, 0, 1, 1, 1, 1, 1, 0, 1, 1, 1, 0, 0,\n",
       "       0, 0, 0, 0, 0, 1, 1, 1, 0, 1, 0, 1, 0, 1, 0, 1, 0, 1, 1, 1, 0, 1,\n",
       "       0, 1, 1, 1, 1, 1, 1, 1, 0, 1, 1, 0, 0, 1, 1, 1, 0, 0, 1, 1, 1, 1,\n",
       "       0, 0, 0, 0, 1, 1, 1, 0, 1, 1, 1, 1, 1, 0, 1, 0, 1, 1, 0, 1, 0, 0,\n",
       "       0, 1, 0, 1, 1, 1, 1, 0, 1, 0, 0, 1, 0, 1, 0, 0, 0, 1, 1, 1, 0, 0,\n",
       "       1, 0, 1, 1, 1, 1, 0, 0, 1, 0, 1, 1, 1, 0, 1, 0, 1, 0, 1, 1, 0, 1,\n",
       "       0, 1, 1, 0, 0, 0, 0, 1, 1, 0, 1, 0, 0, 0, 0, 1, 1, 0, 0, 0, 0, 0,\n",
       "       0, 0, 0, 0, 1, 1, 0, 1, 0, 0, 1, 0, 1, 1, 0, 0, 0, 0, 1, 0, 0, 1,\n",
       "       0, 1, 1, 0, 0, 1, 1, 0, 0, 1, 1, 0, 1, 1, 1, 1, 1, 1, 0, 0, 0, 1,\n",
       "       1, 0, 0, 0, 1, 1, 0, 0, 0, 1, 0, 0, 0, 0, 0, 1, 0, 1, 1, 0, 0, 1,\n",
       "       1, 1, 1, 0, 1, 0, 1, 0, 0, 0, 0, 0, 1, 0, 1, 0, 0, 0, 0, 0, 0, 0,\n",
       "       0, 0, 0, 0, 0, 1, 0, 0, 0, 0, 0, 0, 0, 0, 0, 0, 0, 0, 0, 0, 0, 0,\n",
       "       0, 0, 0, 0, 0, 0, 0, 0, 0, 0, 0, 0, 0, 0, 0, 0, 0, 0, 0, 0, 0, 0,\n",
       "       0, 0, 0, 0, 0, 0, 0, 0, 0, 0, 0, 0, 0, 0, 0, 0, 0, 0, 0, 0, 0, 0,\n",
       "       0, 0, 0, 0, 0, 0, 0, 0, 0, 0, 0, 0, 0, 0, 0, 0, 0])"
      ]
     },
     "execution_count": 221,
     "metadata": {},
     "output_type": "execute_result"
    }
   ],
   "source": [
    "test_y"
   ]
  },
  {
   "cell_type": "code",
   "execution_count": 222,
   "metadata": {},
   "outputs": [
    {
     "data": {
      "text/plain": [
       "array([0, 1, 0, 1, 1, 1, 0, 0, 1, 0, 1, 1, 0, 1, 0, 1, 1, 1, 1, 1, 0, 1,\n",
       "       0, 0, 0, 0, 0, 1, 1, 0, 0, 1, 0, 0, 0, 1, 0, 1, 1, 0, 0, 0, 1, 1,\n",
       "       1, 0, 1, 0, 1, 0, 1, 0, 1, 1, 0, 1, 0, 0, 0, 0, 0, 1, 0, 0, 1, 1,\n",
       "       0, 1, 0, 1, 1, 1, 1, 1, 1, 1, 1, 1, 1, 1, 1, 1, 0, 0, 1, 0, 1, 1,\n",
       "       1, 1, 0, 1, 0, 1, 0, 1, 1, 1, 0, 1, 1, 1, 1, 1, 0, 1, 1, 1, 0, 0,\n",
       "       0, 0, 0, 0, 0, 1, 1, 1, 0, 1, 0, 1, 0, 1, 0, 1, 0, 1, 1, 1, 0, 1,\n",
       "       0, 1, 1, 1, 1, 1, 1, 1, 0, 1, 1, 0, 0, 1, 1, 1, 0, 0, 1, 1, 1, 1,\n",
       "       0, 0, 0, 0, 1, 1, 1, 0, 1, 1, 1, 1, 1, 0, 1, 0, 1, 1, 0, 1, 0, 0,\n",
       "       0, 1, 0, 1, 1, 1, 1, 0, 1, 0, 0, 1, 0, 1, 0, 0, 0, 1, 1, 1, 0, 0,\n",
       "       1, 0, 1, 1, 1, 1, 0, 0, 1, 0, 1, 1, 1, 0, 1, 0, 1, 0, 1, 1, 0, 1,\n",
       "       0, 1, 1, 0, 0, 0, 0, 1, 1, 0, 1, 0, 0, 0, 0, 1, 1, 0, 0, 0, 0, 0,\n",
       "       0, 0, 0, 0, 1, 1, 0, 1, 0, 0, 1, 0, 1, 1, 0, 0, 0, 0, 1, 0, 0, 1,\n",
       "       0, 1, 1, 0, 0, 1, 1, 0, 0, 1, 1, 0, 1, 1, 1, 1, 1, 1, 0, 0, 0, 1,\n",
       "       1, 0, 0, 0, 1, 1, 0, 0, 0, 1, 0, 0, 0, 0, 0, 1, 0, 1, 1, 0, 0, 1,\n",
       "       1, 1, 1, 0, 1, 0, 1, 0, 0, 0, 0, 0, 1, 0, 1, 0, 0, 0, 0, 0, 0, 0,\n",
       "       0, 0, 0, 0, 0, 1, 0, 0, 0, 0, 0, 0, 0, 0, 0, 0, 0, 0, 0, 0, 0, 0,\n",
       "       0, 0, 0, 0, 0, 0, 0, 0, 0, 0, 0, 0, 0, 0, 0, 0, 0, 0, 0, 0, 0, 0,\n",
       "       0, 0, 0, 0, 0, 0, 0, 0, 0, 0, 0, 0, 0, 0, 0, 0, 0, 0, 0, 0, 0, 0,\n",
       "       0, 0, 0, 0, 0, 0, 0, 0, 0, 0, 0, 0, 0, 0, 0, 0, 0])"
      ]
     },
     "execution_count": 222,
     "metadata": {},
     "output_type": "execute_result"
    }
   ],
   "source": [
    "test_y"
   ]
  },
  {
   "cell_type": "code",
   "execution_count": null,
   "metadata": {},
   "outputs": [],
   "source": []
  }
 ],
 "metadata": {
  "kernelspec": {
   "display_name": "Python 3",
   "language": "python",
   "name": "python3"
  },
  "language_info": {
   "codemirror_mode": {
    "name": "ipython",
    "version": 3
   },
   "file_extension": ".py",
   "mimetype": "text/x-python",
   "name": "python",
   "nbconvert_exporter": "python",
   "pygments_lexer": "ipython3",
   "version": "3.8.2"
  }
 },
 "nbformat": 4,
 "nbformat_minor": 4
}
